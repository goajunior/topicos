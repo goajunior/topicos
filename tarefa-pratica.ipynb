{
 "cells": [
  {
   "cell_type": "markdown",
   "metadata": {},
   "source": [
    "# Exercício Prático\n",
    "\n",
    "Implementar o método de Adams-Bashforth para a equação da onda unidimensional ($\\frac{\\partial u}{\\partial t} + c \\frac{\\partial u}{\\partial x}=0$):\n",
    "\n",
    "* $y_{n+1}=y_n + \\frac{\\Delta t}{24} (55f_{n} - 59f_{n-1} + 37f_{n-2} - 9f_{n-3})$\n",
    "* utilize o método de Euler explícito para computar os três primeiros passos ($y_{n+1} = y_{n} + \\Delta t f_n$);\n",
    "* como condição inicial, utilize a mesma condição da onda quadrada simulada nos primeiros exemplos."
   ]
  },
  {
   "cell_type": "code",
   "execution_count": null,
   "metadata": {},
   "outputs": [],
   "source": []
  }
 ],
 "metadata": {
  "kernelspec": {
   "display_name": "Python 3",
   "language": "python",
   "name": "python3"
  },
  "language_info": {
   "codemirror_mode": {
    "name": "ipython",
    "version": 3
   },
   "file_extension": ".py",
   "mimetype": "text/x-python",
   "name": "python",
   "nbconvert_exporter": "python",
   "pygments_lexer": "ipython3",
   "version": "3.7.0"
  }
 },
 "nbformat": 4,
 "nbformat_minor": 2
}
